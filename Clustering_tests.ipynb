{
 "cells": [
  {
   "cell_type": "markdown",
   "metadata": {},
   "source": [
    "# Tests notebook\n",
    "\n",
    "This notebook is for testing the results of new clustering approach. The correctness tests validate whether the clustering algorithm works as indented, while the performance tests check whether new clustering offers benefits over the old approach in terms of the cluster numbers."
   ]
  },
  {
   "cell_type": "code",
   "execution_count": null,
   "metadata": {},
   "outputs": [],
   "source": [
    "import matplotlib\n",
    "matplotlib.rcParams['axes.formatter.useoffset'] = False\n",
    "\n",
    "import json\n",
    "import matplotlib.pyplot as plt\n",
    "import numpy as np\n",
    "from os import path"
   ]
  },
  {
   "cell_type": "markdown",
   "metadata": {},
   "source": [
    "### Algorithm test\n",
    "\n",
    "Check whether the algorithm gives the expected results"
   ]
  },
  {
   "cell_type": "code",
   "execution_count": null,
   "metadata": {},
   "outputs": [],
   "source": [
    "with open(path.join(\"logs\", \"just_candidates.dat\")) as cf:\n",
    "    candidates = json.load(cf)[\"candidates\"]"
   ]
  },
  {
   "cell_type": "code",
   "execution_count": null,
   "metadata": {},
   "outputs": [],
   "source": [
    "print(candidates[0].keys())"
   ]
  },
  {
   "cell_type": "code",
   "execution_count": null,
   "metadata": {},
   "outputs": [],
   "source": [
    "candidates_array = np.array([list(candidate.values()) for candidate in candidates], dtype=object)"
   ]
  },
  {
   "cell_type": "code",
   "execution_count": null,
   "metadata": {},
   "outputs": [],
   "source": [
    "fig = plt.figure(figsize=(15,10))\n",
    "ax = fig.gca()\n",
    "\n",
    "ax.scatter(candidates_array[:, 1], candidates_array[:, 0])"
   ]
  },
  {
   "cell_type": "code",
   "execution_count": null,
   "metadata": {},
   "outputs": [],
   "source": [
    "fig = plt.figure(figsize=(15,10))\n",
    "ax = fig.gca()\n",
    "\n",
    "ax.scatter(candidates_array[:, 1], candidates_array[:, 0])\n",
    "ax.set_xlim([59715.6, 59715.7])\n",
    "ax.set_ylim([0, 100])"
   ]
  },
  {
   "cell_type": "code",
   "execution_count": null,
   "metadata": {},
   "outputs": [],
   "source": [
    "times = np.loadtxt(path.join(\"logs\", \"delay_times.dat\"))"
   ]
  },
  {
   "cell_type": "code",
   "execution_count": null,
   "metadata": {},
   "outputs": [],
   "source": [
    "fig = plt.figure(figsize=(15,10))\n",
    "ax = fig.gca()\n",
    "\n",
    "limits = [40, 50, 60]\n",
    "\n",
    "hist = ax.hist(times, bins=20, histtype=\"step\", linewidth=1.0)\n",
    "max_count = np.max(hist[0])\n",
    "for limit in limits:\n",
    "\n",
    "    ax.axvline(limit, color=\"firebrick\")\n",
    "    ax.arrow(limit, max_count + 1, -2, 0, head_width=1, head_length=0.5, edgecolor=\"firebrick\", facecolor=\"firebrick\")\n",
    "    ax.text(limit - 2, max_count + 1.5, str(times[times <= limit].size), fontsize=12, fontweight=\"bold\", color=\"firebrick\")"
   ]
  },
  {
   "cell_type": "code",
   "execution_count": null,
   "metadata": {},
   "outputs": [],
   "source": []
  }
 ],
 "metadata": {
  "kernelspec": {
   "display_name": "Python 3",
   "language": "python",
   "name": "python3"
  },
  "language_info": {
   "codemirror_mode": {
    "name": "ipython",
    "version": 3
   },
   "file_extension": ".py",
   "mimetype": "text/x-python",
   "name": "python",
   "nbconvert_exporter": "python",
   "pygments_lexer": "ipython3",
   "version": "3.8.5"
  }
 },
 "nbformat": 4,
 "nbformat_minor": 4
}
