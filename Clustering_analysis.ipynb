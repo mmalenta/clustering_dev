{
 "cells": [
  {
   "cell_type": "markdown",
   "metadata": {},
   "source": [
    "## Analysis notes\n",
    "- the data is pre-clustered on the single-pulse detection stage\n",
    "- any DM - SNR analysis will break - we have detections from multiple beams\n",
    "- really need some beam filtering\n",
    "- could we scale the data to the same SNR?"
   ]
  },
  {
   "cell_type": "code",
   "execution_count": null,
   "metadata": {},
   "outputs": [],
   "source": [
    "%matplotlib inline\n",
    "\n",
    "import matplotlib\n",
    "matplotlib.rcParams['axes.formatter.useoffset'] = False\n",
    "import matplotlib.gridspec as gspec\n",
    "import matplotlib.pyplot as plt\n",
    "\n",
    "import numpy as np\n",
    "import pandas as pd\n",
    "\n",
    "from functools import partial\n",
    "from glob import glob\n",
    "from os import path\n",
    "from sklearn.cluster import DBSCAN\n",
    "from scipy.special import erf\n",
    "from time import time"
   ]
  },
  {
   "cell_type": "code",
   "execution_count": null,
   "metadata": {},
   "outputs": [],
   "source": [
    "colours = [\"darkred\", \"dodgerblue\", \"forestgreen\", \"darkorange\", \"black\", \"purple\", \"grey\", \"gold\", \"crimson\"]\n",
    "bw_mhz = 856000000.0 / 1e+06\n",
    "cfreq_mhz = 1284000000.0 / 1e+06\n",
    "\n",
    "ftop = cfreq_mhz + bw_mhz / 2\n",
    "fbottom = cfreq_mhz - bw_mhz / 2\n",
    "\n",
    "# Just multiply by a DM value to get a delay across the band in s\n",
    "disp_const = 4.15e+03 * (1.0 / (fbottom * fbottom) - 1.0 / (ftop * ftop))\n",
    "\n",
    "print(f\"Bandwidth: {bw_mhz}MHz\")\n",
    "print(f\"Centre frequency: {cfreq_mhz}MHz\")\n",
    "print(f\"Bottom frequency: {fbottom}MHz\")\n",
    "print(f\"Top frequency: {ftop}MHz\")\n",
    "\n",
    "pulsars = [\"j0835-4510\", \"j0901-4046\", \"j1326-6408\"]\n",
    "pulsar = pulsars[0]\n",
    "\n",
    "spccl_files = glob(path.join(\"pulsars\", pulsar, \"tpn-0-*/2022*/beam*/*.spccl\"))\n",
    "print(len(spccl_files))"
   ]
  },
  {
   "cell_type": "code",
   "execution_count": null,
   "metadata": {},
   "outputs": [],
   "source": [
    "def delta_time(cand_dm):\n",
    "    \n",
    "    trial_dms = np.linspace(cand_dm, 0, 256) + cand_dm / 2\n",
    "    delta_dm = trial_dms - cand_dm\n",
    "    \n",
    "    #smearing_delta = 8.3e-06 * cand_dm * bw_mhz * (cfreq_mhz * 1e-03)**-3\n",
    "    smearing_delta = disp_const * cand_dm\n",
    "    dm_off_delta = (smearing_delta / cand_dm) * delta_dm\n",
    "    \n",
    "    width_delta = - 1.0 * dm_off_delta / 86400 #**2 / (np.sqrt(10e-03**2 + smearing_delta**2) + np.sqrt(10e-03**2 + smearing_delta**2 + dm_off_delta**2)  ) / 86400\n",
    "    time_delta = width_delta / 2\n",
    "    \n",
    "    return time_delta, trial_dms"
   ]
  },
  {
   "cell_type": "code",
   "execution_count": null,
   "metadata": {},
   "outputs": [],
   "source": [
    "csv_part=partial(pd.read_csv, header=None, skiprows=1, delimiter=\"\\s+\", names=[\"MJD\", \"DM\", \"WIDTH\", \"SNR\"])\n",
    "rfi_test_full = pd.concat(map(csv_part, spccl_files)).sort_values(by=[\"MJD\"], ignore_index=True)\n",
    "rfi_test_full = rfi_test_full[rfi_test_full[\"DM\"] > 100.0]"
   ]
  },
  {
   "cell_type": "code",
   "execution_count": null,
   "metadata": {},
   "outputs": [],
   "source": [
    "rfi_test_full.head()"
   ]
  },
  {
   "cell_type": "code",
   "execution_count": null,
   "metadata": {},
   "outputs": [],
   "source": [
    "rfi_test_full.describe()"
   ]
  },
  {
   "cell_type": "code",
   "execution_count": null,
   "metadata": {},
   "outputs": [],
   "source": [
    "fig = plt.figure(figsize=(10,6))\n",
    "ax = fig.gca()\n",
    "\n",
    "sc = ax.scatter(rfi_test_full[\"MJD\"], rfi_test_full[\"DM\"], s=rfi_test_full[\"WIDTH\"], c=rfi_test_full[\"SNR\"])\n",
    "\n",
    "time_deltas, trial_dms = delta_time(75)\n",
    "\n",
    "plt.colorbar(sc)"
   ]
  },
  {
   "cell_type": "code",
   "execution_count": null,
   "metadata": {},
   "outputs": [],
   "source": [
    "fig = plt.figure(figsize=(10,6))\n",
    "ax = fig.gca()\n",
    "\n",
    "#ax.scatter(rfi_test[\"MJD\"], rfi_test[\"DM\"])\n",
    "ax.scatter(rfi_test_full[\"MJD\"], rfi_test_full[\"DM\"], c=rfi_test_full[\"SNR\"], s=20)\n",
    "ax.errorbar(rfi_test_full[\"MJD\"], rfi_test_full[\"DM\"], xerr=rfi_test_full[\"WIDTH\"] / 86400.0 / 1000.0 / 2, yerr=rfi_test_full[\"DM\"] * 0.05 / 2, linestyle=\"\", marker=\"\")"
   ]
  },
  {
   "cell_type": "code",
   "execution_count": null,
   "metadata": {},
   "outputs": [],
   "source": [
    "rfi_test = pd.concat(map(csv_part, spccl_files)).sort_values(by=[\"MJD\"], ignore_index=True)\n",
    "colours = [\"darkred\", \"dodgerblue\", \"forestgreen\", \"darkorange\", \"black\", \"purple\", \"grey\", \"gold\"]\n",
    "rfi_test = rfi_test[rfi_test[\"DM\"] > 100.0]"
   ]
  },
  {
   "cell_type": "code",
   "execution_count": null,
   "metadata": {},
   "outputs": [],
   "source": [
    "dm_thresh = 0.05 \n",
    "time_thresh = 30e-03\n",
    "iterations = 256"
   ]
  },
  {
   "cell_type": "code",
   "execution_count": null,
   "metadata": {},
   "outputs": [],
   "source": [
    "fig = plt.figure(figsize=(10,6))\n",
    "ax = fig.gca()\n",
    "\n",
    "iteration = 0\n",
    "\n",
    "while not rfi_test.empty:\n",
    "    \n",
    "    oldest_mjd = rfi_test.iloc[0].MJD\n",
    "    oldest_dm = rfi_test.iloc[0].DM\n",
    "    \n",
    "    cluster = rfi_test[(abs(rfi_test.MJD - oldest_mjd) * 86400 <= time_thresh) & (abs(rfi_test.DM - oldest_dm) <= oldest_dm * dm_thresh)]\n",
    "    rfi_test = rfi_test[~((abs(rfi_test.MJD - oldest_mjd) * 86400 <= time_thresh) & (abs(rfi_test.DM - oldest_dm) <= oldest_dm * dm_thresh))]\n",
    "    \n",
    "    ax.scatter(cluster[\"MJD\"], cluster[\"DM\"], c=colours[iteration % len(colours)], s=30, alpha=0.5)\n",
    "    ax.plot(oldest_mjd, oldest_dm, marker=\"x\", color=colours[iteration % len(colours)])\n",
    "    iteration += 1\n",
    "\n",
    "print(f\"Clustering took {iteration} iterations\")"
   ]
  },
  {
   "cell_type": "code",
   "execution_count": null,
   "metadata": {},
   "outputs": [],
   "source": [
    "rfi_test = pd.concat(map(csv_part, spccl_files)).sort_values(by=[\"MJD\"], ignore_index=True)\n",
    "rfi_test = rfi_test[(rfi_test[\"MJD\"] > 59669.60758889) & (rfi_test[\"MJD\"] < 59669.60758997)]\n",
    "\n",
    "print(rfi_test)\n",
    "\n",
    "clustering = DBSCAN(eps=3, min_samples=4).fit(rfi_test)\n",
    "labels = clustering.labels_\n",
    "unique_labels = set(labels)\n",
    "\n",
    "print(unique_labels)\n",
    "\n",
    "fig = plt.figure(figsize=(10,6))\n",
    "ax = fig.gca()\n",
    "\n",
    "for label in unique_labels:\n",
    "    \n",
    "    if label != -1:\n",
    "    \n",
    "        print(label, colours[label])\n",
    "        mask = labels == label\n",
    "        ax.scatter(rfi_test[mask][\"MJD\"], rfi_test[mask][\"DM\"], c = colours[label % len(colours)])"
   ]
  },
  {
   "cell_type": "code",
   "execution_count": null,
   "metadata": {},
   "outputs": [],
   "source": [
    "oldest_mjd = rfi_test.iloc[0].MJD\n",
    "oldest_dm = rfi_test.iloc[0].DM\n",
    "oldest_snr = rfi_test.iloc[0].SNR\n",
    "oldest_width = rfi_test.iloc[0].WIDTH\n",
    "print(oldest_mjd)\n",
    "print(oldest_dm)\n",
    "print(oldest_snr)\n",
    "print(oldest_width / 1000 / 86400)"
   ]
  },
  {
   "cell_type": "code",
   "execution_count": null,
   "metadata": {},
   "outputs": [],
   "source": [
    "time_deltas, trial_dms = delta_time(oldest_dm)"
   ]
  },
  {
   "cell_type": "code",
   "execution_count": null,
   "metadata": {},
   "outputs": [],
   "source": [
    "fig = plt.figure(figsize=(10,6))\n",
    "ax = fig.gca()\n",
    "sc = ax.scatter(rfi_test[\"MJD\"], rfi_test[\"DM\"], c=rfi_test[\"SNR\"], s=30, alpha=0.5)\n",
    "ax.plot(time_deltas + oldest_mjd, trial_dms, color=\"black\")\n",
    "ax.plot(oldest_mjd, oldest_dm, marker=\"x\", color=\"black\")\n",
    "ax.errorbar(oldest_mjd, oldest_dm, xerr=oldest_width / 86400.0 / 1000.0 / 2, yerr=oldest_dm * 0.05 / 2, linestyle=\"\", marker=\"\")\n",
    "plt.colorbar(sc)"
   ]
  },
  {
   "cell_type": "code",
   "execution_count": null,
   "metadata": {},
   "outputs": [],
   "source": [
    "plt.close()"
   ]
  },
  {
   "cell_type": "markdown",
   "metadata": {},
   "source": [
    "# Simple DBSCAN\n",
    "**Need to limit the number of candidates participating in clustering**\n",
    "\n",
    "**Time**:\n",
    "- x times the candidate width - can be a bit chaotic\n",
    "- x time the smearing at the candidate DM - try that\n",
    "\n",
    "**DM**:\n",
    "- for now take the whole DM range"
   ]
  },
  {
   "cell_type": "code",
   "execution_count": null,
   "metadata": {},
   "outputs": [],
   "source": [
    "dbscan_test_data = pd.concat(map(csv_part, spccl_files)).sort_values(by=[\"MJD\"], ignore_index=True)"
   ]
  },
  {
   "cell_type": "code",
   "execution_count": null,
   "metadata": {},
   "outputs": [],
   "source": [
    "dbscan_test_data.head()"
   ]
  },
  {
   "cell_type": "code",
   "execution_count": null,
   "metadata": {},
   "outputs": [],
   "source": [
    "first_candidate = dbscan_test_data.iloc[0]"
   ]
  },
  {
   "cell_type": "code",
   "execution_count": null,
   "metadata": {},
   "outputs": [],
   "source": [
    "delta_dm = np.linspace(0, first_candidate.DM, 128) - first_candidate.DM / 2\n",
    "zeta = 6.91e-03 * delta_dm * bw_mhz / first_candidate.WIDTH / (cfreq_mhz / 1000.0)**3\n",
    "sigma_smear = first_candidate.SNR * np.sqrt(np.pi) / 2 / zeta * erf(zeta)\n",
    "\n",
    "mask = np.where(sigma_smear > 8.0)\n",
    "print(mask[0])\n",
    "print(sigma_smear[mask[0]])\n",
    "\n",
    "fig = plt.figure(figsize=(10,6))\n",
    "ax = fig.gca()\n",
    "\n",
    "# Use the fact that this is a symmetric distribution\n",
    "border_delta = delta_dm[mask[0][0]]\n",
    "print(border_delta)\n",
    "\n",
    "ax.plot(delta_dm, sigma_smear)\n",
    "ax.axhline(first_candidate.SNR, color=\"green\")\n",
    "ax.axhline(8.0, color=\"green\")\n",
    "ax.scatter(border_delta, 8.0, marker=\"x\", color=\"black\")\n"
   ]
  },
  {
   "cell_type": "code",
   "execution_count": null,
   "metadata": {},
   "outputs": [],
   "source": [
    "iteration = 0\n",
    "smearing_factor = 5"
   ]
  },
  {
   "cell_type": "code",
   "execution_count": null,
   "metadata": {},
   "outputs": [],
   "source": [
    "clustering = DBSCAN(eps=3, min_samples=4).fit(rfi_test)\n",
    "labels = clustering.labels_\n",
    "unique_labels = set(labels)\n",
    "\n",
    "print(unique_labels)\n",
    "\n",
    "fig = plt.figure(figsize=(10,6))\n",
    "ax = fig.gca()\n",
    "\n",
    "for label in unique_labels:\n",
    "    \n",
    "    if label != -1:\n",
    "    \n",
    "        print(label, colours[label])\n",
    "        mask = labels == label\n",
    "        ax.scatter(rfi_test[mask][\"MJD\"], rfi_test[mask][\"DM\"], c = colours[label % len(colours)])"
   ]
  },
  {
   "cell_type": "code",
   "execution_count": null,
   "metadata": {},
   "outputs": [],
   "source": []
  },
  {
   "cell_type": "code",
   "execution_count": null,
   "metadata": {},
   "outputs": [],
   "source": [
    "dbscan_test_data = pd.concat(map(csv_part, spccl_files)).sort_values(by=[\"MJD\"], ignore_index=True)\n",
    "\n",
    "dbscan_test_data = dbscan_test_data[[\"MJD\", \"DM\"]]\n",
    "\n",
    "\n",
    "iteration = 0\n",
    "\n",
    "fig = plt.figure(figsize=(10,6))\n",
    "ax = fig.gca()\n",
    "\n",
    "while not dbscan_test_data.empty:\n",
    "    \n",
    "    oldest_mjd = dbscan_test_data.iloc[0].MJD\n",
    "    oldest_dm = dbscan_test_data.iloc[0].DM\n",
    "    \n",
    "    dm_smearing = disp_const * oldest_dm * smearing_factor\n",
    "    \n",
    "    cluster = dbscan_test_data[(abs(dbscan_test_data.MJD - oldest_mjd) * 86400 <= dm_smearing)]\n",
    "    dbscan_test_data = dbscan_test_data[~(abs(dbscan_test_data.MJD - oldest_mjd) * 86400 <= dm_smearing)]\n",
    "    \n",
    "    min_cluster_dm = min(cluster[\"DM\"])\n",
    "    max_cluster_dm = max(cluster[\"DM\"])\n",
    "    \n",
    "    min_cluster_mjd = min(cluster[\"MJD\"])\n",
    "    max_cluster_mjd = max(cluster[\"MJD\"])\n",
    "    \n",
    "    print(f\"DM min/max: {min_cluster_dm}/{max_cluster_dm}\")\n",
    "    print(f\"MJD min/max: {min_cluster_mjd}/{max_cluster_mjd}\")\n",
    "    \n",
    "    cluster[\"DM\"] = -1.0 * (cluster[\"DM\"] - min_cluster_dm) / (min_cluster_dm - max_cluster_dm)\n",
    "    cluster[\"MJD\"] = -1.0 * (cluster[\"MJD\"] - min_cluster_mjd) / (min_cluster_mjd - max_cluster_mjd)\n",
    "    \n",
    "    cluster = cluster.values\n",
    "    \n",
    "    db_cluster = DBSCAN(eps=0.1, min_samples=4, metric=\"euclidean\").fit(cluster)\n",
    "    db_labels = db_cluster.labels_\n",
    "    unique_labels = set(db_labels)\n",
    "    print(unique_labels)\n",
    "    \n",
    "    if (len(unique_labels) >= len(colours)):\n",
    "        print(f\"More labels than colours for iteration {iteration}\")\n",
    "        continue\n",
    "    \n",
    "    for label in unique_labels:\n",
    "        \n",
    "        mask = db_labels == label\n",
    "        ax.scatter(cluster[mask, 0], cluster[mask, 1], c=colours[(label + 1 + iteration) % len(colours)], s=30, alpha=0.5)\n",
    "\n",
    "    iteration += 1\n",
    "    break\n",
    "\n",
    "print(f\"Clustering took {iteration} iterations\")\n",
    "    \n"
   ]
  },
  {
   "cell_type": "code",
   "execution_count": null,
   "metadata": {},
   "outputs": [],
   "source": [
    "plt.close()"
   ]
  },
  {
   "cell_type": "markdown",
   "metadata": {},
   "source": [
    "# Modified \"DBSCAN\""
   ]
  },
  {
   "cell_type": "code",
   "execution_count": null,
   "metadata": {},
   "outputs": [],
   "source": [
    "cluster_data = rfi_test_full\n",
    "cluster_data.describe()"
   ]
  },
  {
   "cell_type": "code",
   "execution_count": null,
   "metadata": {},
   "outputs": [],
   "source": [
    "# 0 - MJD\n",
    "# 1 - DM\n",
    "# 2 - WIDTH\n",
    "# 3 - SNR\n",
    "cluster_data = cluster_data.to_numpy()"
   ]
  },
  {
   "cell_type": "code",
   "execution_count": null,
   "metadata": {},
   "outputs": [],
   "source": [
    "fig = plt.figure(figsize=(10,6))\n",
    "ax = fig.gca()\n",
    "sc = ax.scatter(cluster_data[:, 0], cluster_data[:, 1], c=cluster_data[:, 3])"
   ]
  },
  {
   "cell_type": "code",
   "execution_count": null,
   "metadata": {},
   "outputs": [],
   "source": [
    "delta_dms = np.zeros(cluster_data.shape[0])\n",
    "\n",
    "sigma_limit = 7.0\n",
    "\n",
    "for idx in np.arange(delta_dms.shape[0]):\n",
    "    \n",
    "    delta_dm = np.linspace(0, cluster_data[idx, 1], 1024) - cluster_data[idx, 1] / 2\n",
    "    zeta = 6.91e-03 * delta_dm * bw_mhz / cluster_data[idx, 2] / (cfreq_mhz / 1000.0)**3\n",
    "    sigma_smear = cluster_data[idx, 3] * np.sqrt(np.pi) / 2 / zeta * erf(zeta)\n",
    "\n",
    "    delta_dms[idx] = np.abs(delta_dm[np.where(sigma_smear >= sigma_limit)[0][0]])\n"
   ]
  },
  {
   "cell_type": "code",
   "execution_count": null,
   "metadata": {},
   "outputs": [],
   "source": [
    "fig = plt.figure(figsize=(10,6))\n",
    "ax = fig.gca()\n",
    "sc = ax.scatter(cluster_data[:, 0], cluster_data[:, 1], c=cluster_data[:, 2])\n",
    "ax.errorbar(cluster_data[:, 0], cluster_data[:, 1], yerr=delta_dms, xerr=cluster_data[:, 2] / 2 / 1000.0 / 86400.0, elinewidth=0.5, linestyle=\"\", marker=\"\")\n",
    "ax.plot(cluster_data[0, 0], cluster_data[0, 1], marker=\"x\", markersize=30, color=\"black\")\n",
    "plt.colorbar(sc)"
   ]
  },
  {
   "cell_type": "code",
   "execution_count": null,
   "metadata": {},
   "outputs": [],
   "source": [
    "np.reshape(delta_dms, (delta_dms.shape[0], 1)).shape"
   ]
  },
  {
   "cell_type": "code",
   "execution_count": null,
   "metadata": {},
   "outputs": [],
   "source": [
    "cluster_data = np.append(cluster_data, np.reshape(delta_dms, (delta_dms.shape[0], 1)), axis=1)"
   ]
  },
  {
   "cell_type": "code",
   "execution_count": null,
   "metadata": {},
   "outputs": [],
   "source": [
    "cluster_data = rfi_test_full[rfi_test_full[\"MJD\"] <= 59669.60617]\n",
    "cluster_data = cluster_data.to_numpy()\n",
    "\n",
    "\n",
    "first_point = cluster_data[0]\n",
    "\n",
    "mask = np.abs(cluster_data[:, 1] - first_point[1]) <= delta_dms[0]\n",
    "\n",
    "point_neighbours = cluster_data[mask]\n",
    "\n",
    "cluster_data = cluster_data[~mask]\n",
    "\n",
    "full_neighbours = np.copy(point_neighbours)\n",
    "\n",
    "for point in point_neighbours:\n",
    "    \n",
    "    mask = np.abs(cluster_data[:, 1] - point[1]) <= point[4]\n",
    "    point_neighbours = cluster_data[mask]\n",
    "    full_neighbours = np.append(full_neighbours, point_neighbours, axis=0)\n",
    "    cluster_data = cluster_data[~mask]"
   ]
  },
  {
   "cell_type": "code",
   "execution_count": null,
   "metadata": {},
   "outputs": [],
   "source": [
    "print(mask)\n",
    "mask.all()"
   ]
  },
  {
   "cell_type": "code",
   "execution_count": null,
   "metadata": {},
   "outputs": [],
   "source": [
    "cluster_data = rfi_test_full[rfi_test_full[\"MJD\"] <= 59669.60618]\n",
    "cluster_data = cluster_data.to_numpy()\n",
    "\n",
    "delta_dms = np.zeros(cluster_data.shape[0])\n",
    "\n",
    "sigma_limit = 7.0\n",
    "\n",
    "for idx in np.arange(delta_dms.shape[0]):\n",
    "    \n",
    "    delta_dm = np.linspace(0, cluster_data[idx, 1], 128) - cluster_data[idx, 1] / 2\n",
    "    zeta = 6.91e-03 * delta_dm * bw_mhz / cluster_data[idx, 2] / (cfreq_mhz / 1000.0)**3\n",
    "    sigma_smear = cluster_data[idx, 3] * np.sqrt(np.pi) / 2 / zeta * erf(zeta)\n",
    "\n",
    "    delta_dms[idx] = np.abs(delta_dm[np.where(sigma_smear >= sigma_limit)[0][0]])\n",
    "\n",
    "\n",
    "cluster_data = np.append(cluster_data, np.reshape(delta_dms, (delta_dms.shape[0], 1)), axis=1)\n",
    "\n",
    "first_point = cluster_data[0]\n",
    "\n",
    "cluster_data = np.append(cluster_data, np.zeros((cluster_data.shape[0], 1)), axis=1)\n",
    "\n",
    "\n",
    "\n",
    "cluster_point(first_point, cluster_data)"
   ]
  },
  {
   "cell_type": "code",
   "execution_count": null,
   "metadata": {},
   "outputs": [],
   "source": [
    "clustered = cluster_data[cluster_data[:, 5] == 1]\n",
    "\n",
    "not_clustered = cluster_data[cluster_data[:, 5] == 0]\n",
    "\n",
    "fig = plt.figure(figsize=(10,6))\n",
    "ax = fig.gca()\n",
    "#sc = ax.scatter(cluster_data[:, 0], cluster_data[:, 1], c=cluster_data[:, 2])\n",
    "ax.errorbar(cluster_data[:, 0], cluster_data[:, 1], yerr=delta_dms, xerr=cluster_data[:, 2] / 2 / 1000.0 / 86400.0, elinewidth=0.5, linestyle=\"\", marker=\"\")\n",
    "ax.plot(cluster_data[0, 0], cluster_data[0, 1], marker=\"x\", markersize=30, color=\"black\")\n",
    "ax.plot(clustered[:, 0], clustered[:, 1], color=\"firebrick\", linestyle=\"\", marker=\"o\", alpha=0.25)\n",
    "ax.plot(not_clustered[:, 0], not_clustered[:, 1], color=\"deepskyblue\", linestyle=\"\", marker=\"o\")\n",
    "#plt.colorbar(sc)"
   ]
  },
  {
   "cell_type": "code",
   "execution_count": null,
   "metadata": {},
   "outputs": [],
   "source": [
    "for _ in np.arange(20):\n",
    "    plt.close()"
   ]
  },
  {
   "cell_type": "code",
   "execution_count": null,
   "metadata": {},
   "outputs": [],
   "source": [
    "## Full clustering test\n",
    "full_data = rfi_test_full.to_numpy()\n",
    "full_data = np.insert(full_data, 0, np.arange(full_data.shape[0]), axis=1)"
   ]
  },
  {
   "cell_type": "code",
   "execution_count": null,
   "metadata": {},
   "outputs": [],
   "source": [
    "width_pad_s = 1.0\n",
    "width_pad = 1.0 / 86400.0"
   ]
  },
  {
   "cell_type": "code",
   "execution_count": null,
   "metadata": {},
   "outputs": [],
   "source": [
    "def cluster_point(point, cluster_data):\n",
    "    \n",
    "    mask = np.logical_and(np.logical_and(np.abs(cluster_data[:, 2] - point[2]) <= point[5], np.abs(cluster_data[:, 1] - point[1]) <= point[3] / 1000.0 / 86400), np.logical_not(cluster_data[:, 6]))\n",
    "    \n",
    "    cluster_data[:, 6] = np.logical_or(cluster_data[:, 6], mask)\n",
    "    \n",
    "    if mask.any():\n",
    "        print(mask)\n",
    "        print(mask.dtype)\n",
    "        point_neighbours = cluster_data[mask]\n",
    "        for new_point in point_neighbours:\n",
    "            cluster_point(new_point, cluster_data)\n",
    "    else:\n",
    "        return None\n",
    "\n",
    "#fig = plt.figure(figsize=(10,6))\n",
    "#ax = fig.gca()\n",
    "\n",
    "fig = plt.figure(figsize=(8, 16), tight_layout=True)\n",
    "\n",
    "gs_main = gspec.GridSpec(2, 1, figure=fig)\n",
    "\n",
    "ax_clusters = fig.add_subplot(gs_main[0, 0])\n",
    "\n",
    "gs_dist = gspec.GridSpecFromSubplotSpec(8, 8, subplot_spec=gs_main[1, 0])\n",
    "axes_dist = gs_dist.subplots()\n",
    "\n",
    "iteration = 0\n",
    "\n",
    "print(full_data.shape)\n",
    "\n",
    "start_time = time()\n",
    "\n",
    "while full_data.size != 0:\n",
    "#while iteration < 16:\n",
    "\n",
    "    oldest_mjd = full_data[0][1]\n",
    "    oldest_dm = full_data[0][2]\n",
    "    cluster_data_mask = full_data[:, 1] <= oldest_mjd + width_pad\n",
    "    cluster_data = full_data[cluster_data_mask]\n",
    "    \n",
    "    delta_dms = np.zeros(cluster_data.shape[0])\n",
    "\n",
    "    sigma_limit = 6.0\n",
    "\n",
    "    for idx in np.arange(delta_dms.shape[0]):\n",
    "        \n",
    "        delta_dm = np.linspace(0, cluster_data[idx, 2], 1024) - cluster_data[idx, 2] / 2\n",
    "        zeta = 6.91e-03 * delta_dm * bw_mhz / cluster_data[idx, 3] / (cfreq_mhz / 1000.0)**3\n",
    "        sigma_smear = cluster_data[idx, 4] * np.sqrt(np.pi) / 2 / zeta * erf(zeta)\n",
    "        delta_dms[idx] = np.abs(delta_dm[np.where(sigma_smear >= sigma_limit)[0][0]])\n",
    "        \n",
    "    cluster_data = np.append(cluster_data, np.reshape(delta_dms, (delta_dms.shape[0], 1)), axis=1)\n",
    "    first_point = cluster_data[0]\n",
    "    cluster_data = np.append(cluster_data, np.zeros((cluster_data.shape[0], 1)), axis=1)\n",
    "    \n",
    "    cluster_point(first_point, cluster_data)\n",
    "    \n",
    "    clustered = cluster_data[cluster_data[:, 6] == 1]\n",
    "    \n",
    "    ax_clusters.scatter(clustered[:, 1], clustered[:, 2], c=colours[iteration % len(colours)], s=30, alpha=0.5)\n",
    "    ax_clusters.plot(oldest_mjd, oldest_dm, marker=\"x\", color=colours[iteration % len(colours)])\n",
    "    \n",
    "    if iteration < 64:\n",
    "        # The DM-SNR analysis will not work in the current form\n",
    "        # We are getting candidates from many beams now - the SNR will be different depending on\n",
    "        # the beam the source was detected in\n",
    "        axes_dist[int(iteration / 8), iteration % 8].scatter(clustered[:, 2], clustered[:, 4], c=colours[iteration % len(colours)])\n",
    "    \n",
    "    clustered_indices = clustered[:, 0].astype(int)\n",
    "    full_data = np.delete(full_data, clustered_indices, axis=0)\n",
    "    full_data[:, 0] = np.arange(full_data.shape[0])\n",
    "    \n",
    "    #ax.scatter(full_data[:, 1], full_data[:, 2], c=colours[iteration % len(colours) + 1], s=30, alpha=0.5)\n",
    "    \n",
    "    iteration = iteration + 1\n",
    "    \n",
    "    if (iteration % 100 == 0):\n",
    "        print(iteration, full_data.shape)\n",
    "    \n",
    "end_time = time()\n",
    "    \n",
    "print(f\"Clustering took {iteration} iterations\")\n",
    "print(f\"Clustering took {end_time - start_time}s\")\n"
   ]
  },
  {
   "cell_type": "code",
   "execution_count": null,
   "metadata": {},
   "outputs": [],
   "source": []
  }
 ],
 "metadata": {
  "kernelspec": {
   "display_name": "Python 3",
   "language": "python",
   "name": "python3"
  },
  "language_info": {
   "codemirror_mode": {
    "name": "ipython",
    "version": 3
   },
   "file_extension": ".py",
   "mimetype": "text/x-python",
   "name": "python",
   "nbconvert_exporter": "python",
   "pygments_lexer": "ipython3",
   "version": "3.8.5"
  }
 },
 "nbformat": 4,
 "nbformat_minor": 5
}
